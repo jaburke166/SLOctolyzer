{
 "cells": [
  {
   "cell_type": "markdown",
   "id": "2379be0c-0aa3-46a0-b9f5-a1b20913d7c2",
   "metadata": {},
   "source": [
    "# Minimal example\n",
    "\n",
    "## Individual processing"
   ]
  },
  {
   "cell_type": "code",
   "execution_count": null,
   "id": "ac47b982-7fe3-410e-a3b7-3a77d43512bf",
   "metadata": {
    "scrolled": true
   },
   "outputs": [],
   "source": [
    "# Load necessary modules\n",
    "from sloctolyzer import analyse\n",
    "from pathlib import Path\n",
    "\n",
    "# Detect images in analyze/images\n",
    "paths = []\n",
    "for type in [\".png\", \".tif\"]:\n",
    "    paths += list(Path(\"analyze/demo\").glob(f\"*{type}\"))\n",
    "\n",
    "# Specify path to image, a save_path and scale/location/eye if know. Here, we do not specify\n",
    "path = paths[0]\n",
    "save_path = \"analyze/output\"\n",
    "scale = None # for (768,768) images this is typically 11.48 for an emmetropic eye\n",
    "location = None # Can be either \"Macula\" or \"Optic disc\" (speech marks inclusive)\n",
    "eye = None # Can be either \"Left\" or \"Right\" (speech marks inclusive)\n",
    "\n",
    "# Analyse SLO image - saved out in analyze/output/ into a folder whose name is the filename of the image\n",
    "output = analyse.analyse(path, save_path, scale, location, eye, save_images=1, save_results=1)\n",
    "# output is a tuple containing metadata as a dataframe, feature measurements as a list of dataframes\n",
    "# the SLO image, all three segmentation masks and a list of strings for the purposes of logging"
   ]
  },
  {
   "cell_type": "markdown",
   "id": "29f477eb-56a4-4e52-9e35-3eaab73da8f5",
   "metadata": {},
   "source": [
    "## Batch processing"
   ]
  },
  {
   "cell_type": "code",
   "execution_count": null,
   "id": "c0113b5c-dee9-47ab-9a15-083dca43ba92",
   "metadata": {},
   "outputs": [],
   "source": [
    "# Load main \n",
    "from sloctolyzer import main\n",
    "\n",
    "args = {\n",
    "    # Where the images files are to be analysed\n",
    "    'image_directory': r'C:\\Users\\s1522100\\Documents\\PhD Work\\Python Scripts\\Github\\SLOctolyzer\\analyze\\demo',\n",
    "    \n",
    "    # Where the results will be saved out to\n",
    "    'output_directory': r'C:\\Users\\s1522100\\Documents\\PhD Work\\Python Scripts\\Github\\SLOctolyzer\\analyze\\output',\n",
    "\n",
    "    # Otherwise, 1 will skip over any files which throw up unexpected error.\n",
    "    'robust_run': 0,\n",
    "\n",
    "    # Option to save out segmentation masks and superimposed segmentations onto SLO per file.\n",
    "    'save_individual_segmentations': 1\n",
    "}\n",
    "\n",
    "# run pipeline over a batch of images in 'image_directory'\n",
    "main.run(args)"
   ]
  },
  {
   "cell_type": "code",
   "execution_count": null,
   "id": "baedfe2d-8d9e-40b6-b73c-bd6a7ef94340",
   "metadata": {},
   "outputs": [],
   "source": []
  }
 ],
 "metadata": {
  "kernelspec": {
   "display_name": "Python 3 (ipykernel)",
   "language": "python",
   "name": "python3"
  },
  "language_info": {
   "codemirror_mode": {
    "name": "ipython",
    "version": 3
   },
   "file_extension": ".py",
   "mimetype": "text/x-python",
   "name": "python",
   "nbconvert_exporter": "python",
   "pygments_lexer": "ipython3",
   "version": "3.11.6"
  }
 },
 "nbformat": 4,
 "nbformat_minor": 5
}
